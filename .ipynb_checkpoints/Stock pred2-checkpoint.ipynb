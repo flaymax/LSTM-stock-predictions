{
 "cells": [
  {
   "cell_type": "code",
   "execution_count": 7,
   "metadata": {},
   "outputs": [],
   "source": [
    "from keras.models import Sequential"
   ]
  },
  {
   "cell_type": "code",
   "execution_count": 31,
   "metadata": {},
   "outputs": [],
   "source": [
    "import tensorflow\n",
    "import math\n",
    "import numpy as np\n",
    "import pandas as pd\n",
    "from sklearn.preprocessing import MinMaxScaler\n",
    "from keras.layers import Dense, LSTM\n",
    "import matplotlib.pyplot as plt\n",
    "import pandas_datareader as web\n",
    "\n",
    "from datetime import datetime"
   ]
  },
  {
   "cell_type": "code",
   "execution_count": 39,
   "metadata": {},
   "outputs": [
    {
     "ename": "SyntaxError",
     "evalue": "invalid syntax (Temp/ipykernel_12028/3520959211.py, line 12)",
     "output_type": "error",
     "traceback": [
      "\u001b[1;36m  File \u001b[1;32m\"C:\\Users\\bykov\\AppData\\Local\\Temp/ipykernel_12028/3520959211.py\"\u001b[1;36m, line \u001b[1;32m12\u001b[0m\n\u001b[1;33m    import requestsdf['DASH']\u001b[0m\n\u001b[1;37m                     ^\u001b[0m\n\u001b[1;31mSyntaxError\u001b[0m\u001b[1;31m:\u001b[0m invalid syntax\n"
     ]
    }
   ],
   "source": [
    "# сток quote\n",
    "df = pd.read_csv('AAPL.csv')"
   ]
  },
  {
   "cell_type": "code",
   "execution_count": 46,
   "metadata": {},
   "outputs": [
    {
     "ename": "RemoteDataError",
     "evalue": "Unable to read URL: https://finance.yahoo.com/quote/AAPL/history?period1=1539824400&period2=1634605199&interval=1d&frequency=1d&filter=history\nResponse Text:\nb'<!DOCTYPE html>\\n  <html lang=\"en-us\"><head>\\n  <meta http-equiv=\"content-type\" content=\"text/html; charset=UTF-8\">\\n      <meta charset=\"utf-8\">\\n      <title>Yahoo</title>\\n      <meta name=\"viewport\" content=\"width=device-width,initial-scale=1,minimal-ui\">\\n      <meta http-equiv=\"X-UA-Compatible\" content=\"IE=edge,chrome=1\">\\n      <style>\\n  html {\\n      height: 100%;\\n  }\\n  body {\\n      background: #fafafc url(https://s.yimg.com/nn/img/sad-panda-201402200631.png) 50% 50%;\\n      background-size: cover;\\n      height: 100%;\\n      text-align: center;\\n      font: 300 18px \"helvetica neue\", helvetica, verdana, tahoma, arial, sans-serif;\\n  }\\n  table {\\n      height: 100%;\\n      width: 100%;\\n      table-layout: fixed;\\n      border-collapse: collapse;\\n      border-spacing: 0;\\n      border: none;\\n  }\\n  h1 {\\n      font-size: 42px;\\n      font-weight: 400;\\n      color: #400090;\\n  }\\n  p {\\n      color: #1A1A1A;\\n  }\\n  #message-1 {\\n      font-weight: bold;\\n      margin: 0;\\n  }\\n  #message-2 {\\n      display: inline-block;\\n      *display: inline;\\n      zoom: 1;\\n      max-width: 17em;\\n      _width: 17em;\\n  }\\n      </style>\\n  <script>\\n    document.write(\\'<img src=\"//geo.yahoo.com/b?s=1197757129&t=\\'+new Date().getTime()+\\'&src=aws&err_url=\\'+encodeURIComponent(document.URL)+\\'&err=%<pssc>&test=\\'+encodeURIComponent(\\'%<{Bucket}cqh[:200]>\\')+\\'\" width=\"0px\" height=\"0px\"/>\\');var beacon = new Image();beacon.src=\"//bcn.fp.yahoo.com/p?s=1197757129&t=\"+new Date().getTime()+\"&src=aws&err_url=\"+encodeURIComponent(document.URL)+\"&err=%<pssc>&test=\"+encodeURIComponent(\\'%<{Bucket}cqh[:200]>\\');\\n  </script>\\n  </head>\\n  <body>\\n  <!-- status code : 404 -->\\n  <!-- Not Found on Server -->\\n  <table>\\n  <tbody><tr>\\n      <td>\\n      <img src=\"https://s.yimg.com/rz/p/yahoo_frontpage_en-US_s_f_p_205x58_frontpage.png\" alt=\"Yahoo Logo\">\\n      <h1 style=\"margin-top:20px;\">Will be right back...</h1>\\n      <p id=\"message-1\">Thank you for your patience.</p>\\n      <p id=\"message-2\">Our engineers are working quickly to resolve the issue.</p>\\n      </td>\\n  </tr>\\n  </tbody></table>\\n  </body></html>'",
     "output_type": "error",
     "traceback": [
      "\u001b[1;31m---------------------------------------------------------------------------\u001b[0m",
      "\u001b[1;31mRemoteDataError\u001b[0m                           Traceback (most recent call last)",
      "\u001b[1;32m~\\AppData\\Local\\Temp/ipykernel_12028/240357163.py\u001b[0m in \u001b[0;36m<module>\u001b[1;34m\u001b[0m\n\u001b[0;32m      4\u001b[0m     df[asset] = web.DataReader(asset, data_source='yahoo', start=stockStartDate, \n\u001b[0;32m      5\u001b[0m                                end=today)['Adj Close']\"\"\"\n\u001b[1;32m----> 6\u001b[1;33m \u001b[0mdf\u001b[0m\u001b[1;33m[\u001b[0m\u001b[1;34m'APPL'\u001b[0m\u001b[1;33m]\u001b[0m \u001b[1;33m=\u001b[0m  \u001b[0mweb\u001b[0m\u001b[1;33m.\u001b[0m\u001b[0mDataReader\u001b[0m\u001b[1;33m(\u001b[0m\u001b[1;34m'AAPL'\u001b[0m\u001b[1;33m,\u001b[0m \u001b[0mdata_source\u001b[0m\u001b[1;33m=\u001b[0m\u001b[1;34m'yahoo'\u001b[0m\u001b[1;33m,\u001b[0m \u001b[0mstart\u001b[0m\u001b[1;33m=\u001b[0m\u001b[0mstockStartDate\u001b[0m\u001b[1;33m,\u001b[0m \u001b[0mend\u001b[0m\u001b[1;33m=\u001b[0m\u001b[0mtoday\u001b[0m\u001b[1;33m)\u001b[0m\u001b[1;33m\u001b[0m\u001b[1;33m\u001b[0m\u001b[0m\n\u001b[0m\u001b[0;32m      7\u001b[0m df['XMR'] =  web.DataReader('XMR-USD', data_source='yahoo', start=stockStartDate, \n\u001b[0;32m      8\u001b[0m                                end=today)\n",
      "\u001b[1;32mD:\\conda\\lib\\site-packages\\pandas\\util\\_decorators.py\u001b[0m in \u001b[0;36mwrapper\u001b[1;34m(*args, **kwargs)\u001b[0m\n\u001b[0;32m    205\u001b[0m                 \u001b[1;32melse\u001b[0m\u001b[1;33m:\u001b[0m\u001b[1;33m\u001b[0m\u001b[1;33m\u001b[0m\u001b[0m\n\u001b[0;32m    206\u001b[0m                     \u001b[0mkwargs\u001b[0m\u001b[1;33m[\u001b[0m\u001b[0mnew_arg_name\u001b[0m\u001b[1;33m]\u001b[0m \u001b[1;33m=\u001b[0m \u001b[0mnew_arg_value\u001b[0m\u001b[1;33m\u001b[0m\u001b[1;33m\u001b[0m\u001b[0m\n\u001b[1;32m--> 207\u001b[1;33m             \u001b[1;32mreturn\u001b[0m \u001b[0mfunc\u001b[0m\u001b[1;33m(\u001b[0m\u001b[1;33m*\u001b[0m\u001b[0margs\u001b[0m\u001b[1;33m,\u001b[0m \u001b[1;33m**\u001b[0m\u001b[0mkwargs\u001b[0m\u001b[1;33m)\u001b[0m\u001b[1;33m\u001b[0m\u001b[1;33m\u001b[0m\u001b[0m\n\u001b[0m\u001b[0;32m    208\u001b[0m \u001b[1;33m\u001b[0m\u001b[0m\n\u001b[0;32m    209\u001b[0m         \u001b[1;32mreturn\u001b[0m \u001b[0mcast\u001b[0m\u001b[1;33m(\u001b[0m\u001b[0mF\u001b[0m\u001b[1;33m,\u001b[0m \u001b[0mwrapper\u001b[0m\u001b[1;33m)\u001b[0m\u001b[1;33m\u001b[0m\u001b[1;33m\u001b[0m\u001b[0m\n",
      "\u001b[1;32mD:\\conda\\lib\\site-packages\\pandas_datareader\\data.py\u001b[0m in \u001b[0;36mDataReader\u001b[1;34m(name, data_source, start, end, retry_count, pause, session, api_key)\u001b[0m\n\u001b[0;32m    374\u001b[0m \u001b[1;33m\u001b[0m\u001b[0m\n\u001b[0;32m    375\u001b[0m     \u001b[1;32mif\u001b[0m \u001b[0mdata_source\u001b[0m \u001b[1;33m==\u001b[0m \u001b[1;34m\"yahoo\"\u001b[0m\u001b[1;33m:\u001b[0m\u001b[1;33m\u001b[0m\u001b[1;33m\u001b[0m\u001b[0m\n\u001b[1;32m--> 376\u001b[1;33m         return YahooDailyReader(\n\u001b[0m\u001b[0;32m    377\u001b[0m             \u001b[0msymbols\u001b[0m\u001b[1;33m=\u001b[0m\u001b[0mname\u001b[0m\u001b[1;33m,\u001b[0m\u001b[1;33m\u001b[0m\u001b[1;33m\u001b[0m\u001b[0m\n\u001b[0;32m    378\u001b[0m             \u001b[0mstart\u001b[0m\u001b[1;33m=\u001b[0m\u001b[0mstart\u001b[0m\u001b[1;33m,\u001b[0m\u001b[1;33m\u001b[0m\u001b[1;33m\u001b[0m\u001b[0m\n",
      "\u001b[1;32mD:\\conda\\lib\\site-packages\\pandas_datareader\\base.py\u001b[0m in \u001b[0;36mread\u001b[1;34m(self)\u001b[0m\n\u001b[0;32m    251\u001b[0m         \u001b[1;31m# If a single symbol, (e.g., 'GOOG')\u001b[0m\u001b[1;33m\u001b[0m\u001b[1;33m\u001b[0m\u001b[1;33m\u001b[0m\u001b[0m\n\u001b[0;32m    252\u001b[0m         \u001b[1;32mif\u001b[0m \u001b[0misinstance\u001b[0m\u001b[1;33m(\u001b[0m\u001b[0mself\u001b[0m\u001b[1;33m.\u001b[0m\u001b[0msymbols\u001b[0m\u001b[1;33m,\u001b[0m \u001b[1;33m(\u001b[0m\u001b[0mstring_types\u001b[0m\u001b[1;33m,\u001b[0m \u001b[0mint\u001b[0m\u001b[1;33m)\u001b[0m\u001b[1;33m)\u001b[0m\u001b[1;33m:\u001b[0m\u001b[1;33m\u001b[0m\u001b[1;33m\u001b[0m\u001b[0m\n\u001b[1;32m--> 253\u001b[1;33m             \u001b[0mdf\u001b[0m \u001b[1;33m=\u001b[0m \u001b[0mself\u001b[0m\u001b[1;33m.\u001b[0m\u001b[0m_read_one_data\u001b[0m\u001b[1;33m(\u001b[0m\u001b[0mself\u001b[0m\u001b[1;33m.\u001b[0m\u001b[0murl\u001b[0m\u001b[1;33m,\u001b[0m \u001b[0mparams\u001b[0m\u001b[1;33m=\u001b[0m\u001b[0mself\u001b[0m\u001b[1;33m.\u001b[0m\u001b[0m_get_params\u001b[0m\u001b[1;33m(\u001b[0m\u001b[0mself\u001b[0m\u001b[1;33m.\u001b[0m\u001b[0msymbols\u001b[0m\u001b[1;33m)\u001b[0m\u001b[1;33m)\u001b[0m\u001b[1;33m\u001b[0m\u001b[1;33m\u001b[0m\u001b[0m\n\u001b[0m\u001b[0;32m    254\u001b[0m         \u001b[1;31m# Or multiple symbols, (e.g., ['GOOG', 'AAPL', 'MSFT'])\u001b[0m\u001b[1;33m\u001b[0m\u001b[1;33m\u001b[0m\u001b[1;33m\u001b[0m\u001b[0m\n\u001b[0;32m    255\u001b[0m         \u001b[1;32melif\u001b[0m \u001b[0misinstance\u001b[0m\u001b[1;33m(\u001b[0m\u001b[0mself\u001b[0m\u001b[1;33m.\u001b[0m\u001b[0msymbols\u001b[0m\u001b[1;33m,\u001b[0m \u001b[0mDataFrame\u001b[0m\u001b[1;33m)\u001b[0m\u001b[1;33m:\u001b[0m\u001b[1;33m\u001b[0m\u001b[1;33m\u001b[0m\u001b[0m\n",
      "\u001b[1;32mD:\\conda\\lib\\site-packages\\pandas_datareader\\yahoo\\daily.py\u001b[0m in \u001b[0;36m_read_one_data\u001b[1;34m(self, url, params)\u001b[0m\n\u001b[0;32m    151\u001b[0m         \u001b[0murl\u001b[0m \u001b[1;33m=\u001b[0m \u001b[0murl\u001b[0m\u001b[1;33m.\u001b[0m\u001b[0mformat\u001b[0m\u001b[1;33m(\u001b[0m\u001b[0msymbol\u001b[0m\u001b[1;33m)\u001b[0m\u001b[1;33m\u001b[0m\u001b[1;33m\u001b[0m\u001b[0m\n\u001b[0;32m    152\u001b[0m \u001b[1;33m\u001b[0m\u001b[0m\n\u001b[1;32m--> 153\u001b[1;33m         \u001b[0mresp\u001b[0m \u001b[1;33m=\u001b[0m \u001b[0mself\u001b[0m\u001b[1;33m.\u001b[0m\u001b[0m_get_response\u001b[0m\u001b[1;33m(\u001b[0m\u001b[0murl\u001b[0m\u001b[1;33m,\u001b[0m \u001b[0mparams\u001b[0m\u001b[1;33m=\u001b[0m\u001b[0mparams\u001b[0m\u001b[1;33m)\u001b[0m\u001b[1;33m\u001b[0m\u001b[1;33m\u001b[0m\u001b[0m\n\u001b[0m\u001b[0;32m    154\u001b[0m         \u001b[0mptrn\u001b[0m \u001b[1;33m=\u001b[0m \u001b[1;34mr\"root\\.App\\.main = (.*?);\\n}\\(this\\)\\);\"\u001b[0m\u001b[1;33m\u001b[0m\u001b[1;33m\u001b[0m\u001b[0m\n\u001b[0;32m    155\u001b[0m         \u001b[1;32mtry\u001b[0m\u001b[1;33m:\u001b[0m\u001b[1;33m\u001b[0m\u001b[1;33m\u001b[0m\u001b[0m\n",
      "\u001b[1;32mD:\\conda\\lib\\site-packages\\pandas_datareader\\base.py\u001b[0m in \u001b[0;36m_get_response\u001b[1;34m(self, url, params, headers)\u001b[0m\n\u001b[0;32m    179\u001b[0m             \u001b[0mmsg\u001b[0m \u001b[1;33m+=\u001b[0m \u001b[1;34m\"\\nResponse Text:\\n{0}\"\u001b[0m\u001b[1;33m.\u001b[0m\u001b[0mformat\u001b[0m\u001b[1;33m(\u001b[0m\u001b[0mlast_response_text\u001b[0m\u001b[1;33m)\u001b[0m\u001b[1;33m\u001b[0m\u001b[1;33m\u001b[0m\u001b[0m\n\u001b[0;32m    180\u001b[0m \u001b[1;33m\u001b[0m\u001b[0m\n\u001b[1;32m--> 181\u001b[1;33m         \u001b[1;32mraise\u001b[0m \u001b[0mRemoteDataError\u001b[0m\u001b[1;33m(\u001b[0m\u001b[0mmsg\u001b[0m\u001b[1;33m)\u001b[0m\u001b[1;33m\u001b[0m\u001b[1;33m\u001b[0m\u001b[0m\n\u001b[0m\u001b[0;32m    182\u001b[0m \u001b[1;33m\u001b[0m\u001b[0m\n\u001b[0;32m    183\u001b[0m     \u001b[1;32mdef\u001b[0m \u001b[0m_get_crumb\u001b[0m\u001b[1;33m(\u001b[0m\u001b[0mself\u001b[0m\u001b[1;33m,\u001b[0m \u001b[1;33m*\u001b[0m\u001b[0margs\u001b[0m\u001b[1;33m)\u001b[0m\u001b[1;33m:\u001b[0m\u001b[1;33m\u001b[0m\u001b[1;33m\u001b[0m\u001b[0m\n",
      "\u001b[1;31mRemoteDataError\u001b[0m: Unable to read URL: https://finance.yahoo.com/quote/AAPL/history?period1=1539824400&period2=1634605199&interval=1d&frequency=1d&filter=history\nResponse Text:\nb'<!DOCTYPE html>\\n  <html lang=\"en-us\"><head>\\n  <meta http-equiv=\"content-type\" content=\"text/html; charset=UTF-8\">\\n      <meta charset=\"utf-8\">\\n      <title>Yahoo</title>\\n      <meta name=\"viewport\" content=\"width=device-width,initial-scale=1,minimal-ui\">\\n      <meta http-equiv=\"X-UA-Compatible\" content=\"IE=edge,chrome=1\">\\n      <style>\\n  html {\\n      height: 100%;\\n  }\\n  body {\\n      background: #fafafc url(https://s.yimg.com/nn/img/sad-panda-201402200631.png) 50% 50%;\\n      background-size: cover;\\n      height: 100%;\\n      text-align: center;\\n      font: 300 18px \"helvetica neue\", helvetica, verdana, tahoma, arial, sans-serif;\\n  }\\n  table {\\n      height: 100%;\\n      width: 100%;\\n      table-layout: fixed;\\n      border-collapse: collapse;\\n      border-spacing: 0;\\n      border: none;\\n  }\\n  h1 {\\n      font-size: 42px;\\n      font-weight: 400;\\n      color: #400090;\\n  }\\n  p {\\n      color: #1A1A1A;\\n  }\\n  #message-1 {\\n      font-weight: bold;\\n      margin: 0;\\n  }\\n  #message-2 {\\n      display: inline-block;\\n      *display: inline;\\n      zoom: 1;\\n      max-width: 17em;\\n      _width: 17em;\\n  }\\n      </style>\\n  <script>\\n    document.write(\\'<img src=\"//geo.yahoo.com/b?s=1197757129&t=\\'+new Date().getTime()+\\'&src=aws&err_url=\\'+encodeURIComponent(document.URL)+\\'&err=%<pssc>&test=\\'+encodeURIComponent(\\'%<{Bucket}cqh[:200]>\\')+\\'\" width=\"0px\" height=\"0px\"/>\\');var beacon = new Image();beacon.src=\"//bcn.fp.yahoo.com/p?s=1197757129&t=\"+new Date().getTime()+\"&src=aws&err_url=\"+encodeURIComponent(document.URL)+\"&err=%<pssc>&test=\"+encodeURIComponent(\\'%<{Bucket}cqh[:200]>\\');\\n  </script>\\n  </head>\\n  <body>\\n  <!-- status code : 404 -->\\n  <!-- Not Found on Server -->\\n  <table>\\n  <tbody><tr>\\n      <td>\\n      <img src=\"https://s.yimg.com/rz/p/yahoo_frontpage_en-US_s_f_p_205x58_frontpage.png\" alt=\"Yahoo Logo\">\\n      <h1 style=\"margin-top:20px;\">Will be right back...</h1>\\n      <p id=\"message-1\">Thank you for your patience.</p>\\n      <p id=\"message-2\">Our engineers are working quickly to resolve the issue.</p>\\n      </td>\\n  </tr>\\n  </tbody></table>\\n  </body></html>'"
     ]
    }
   ],
   "source": [
    "df = pd.DataFrame()\n",
    "\n",
    "\"\"\"for asset in assets:\n",
    "    df[asset] = web.DataReader(asset, data_source='yahoo', start=stockStartDate, \n",
    "                               end=today)['Adj Close']\"\"\"\n",
    "df['APPL'] =  web.DataReader('AAPL', data_source='yahoo', start=stockStartDate, end=today)\n",
    "df['XMR'] =  web.DataReader('XMR-USD', data_source='yahoo', start=stockStartDate, \n",
    "                               end=today)\n",
    "df['ETC'] =  web.DataReader('ETC-USD', data_source='yahoo', start=stockStartDate, \n",
    "                               end=today)['Adj Close']\n",
    "df['LTC'] =  web.DataReader('LTC-USD', data_source='yahoo', start=stockStartDate, \n",
    "                               end=today)['Adj Close']\n",
    "df['EOS'] =  web.DataReader('EOS-USD', data_source='yahoo', start=stockStartDate, \n",
    "                               end=today)['Adj Close']\n",
    "df['XRP'] =  web.DataReader('XRP-USD', data_source='yahoo', start=stockStartDate, \n",
    "                               end=today)['Adj Close']\n",
    "df['TRX'] =  web.DataReader('TRX-USD', data_source='yahoo', start=stockStartDate, \n",
    "                               end=today)['Adj Close']"
   ]
  },
  {
   "cell_type": "code",
   "execution_count": 187,
   "metadata": {},
   "outputs": [
    {
     "name": "stdout",
     "output_type": "stream",
     "text": [
      "[*********************100%***********************]  1 of 1 completed\n"
     ]
    },
    {
     "data": {
      "text/html": [
       "<div>\n",
       "<style scoped>\n",
       "    .dataframe tbody tr th:only-of-type {\n",
       "        vertical-align: middle;\n",
       "    }\n",
       "\n",
       "    .dataframe tbody tr th {\n",
       "        vertical-align: top;\n",
       "    }\n",
       "\n",
       "    .dataframe thead th {\n",
       "        text-align: right;\n",
       "    }\n",
       "</style>\n",
       "<table border=\"1\" class=\"dataframe\">\n",
       "  <thead>\n",
       "    <tr style=\"text-align: right;\">\n",
       "      <th></th>\n",
       "      <th>Open</th>\n",
       "      <th>High</th>\n",
       "      <th>Low</th>\n",
       "      <th>Close</th>\n",
       "      <th>Adj Close</th>\n",
       "      <th>Volume</th>\n",
       "    </tr>\n",
       "  </thead>\n",
       "  <tbody>\n",
       "    <tr>\n",
       "      <th>2019-12-31 21:00:00+00:00</th>\n",
       "      <td>41.187794</td>\n",
       "      <td>41.297840</td>\n",
       "      <td>41.170208</td>\n",
       "      <td>41.200344</td>\n",
       "      <td>41.200344</td>\n",
       "      <td>0</td>\n",
       "    </tr>\n",
       "    <tr>\n",
       "      <th>2019-12-31 22:00:00+00:00</th>\n",
       "      <td>41.219315</td>\n",
       "      <td>41.335777</td>\n",
       "      <td>41.152782</td>\n",
       "      <td>41.244102</td>\n",
       "      <td>41.244102</td>\n",
       "      <td>126912</td>\n",
       "    </tr>\n",
       "    <tr>\n",
       "      <th>2019-12-31 23:00:00+00:00</th>\n",
       "      <td>41.246174</td>\n",
       "      <td>41.330925</td>\n",
       "      <td>41.150784</td>\n",
       "      <td>41.195194</td>\n",
       "      <td>41.195194</td>\n",
       "      <td>3634272</td>\n",
       "    </tr>\n",
       "    <tr>\n",
       "      <th>2020-01-01 00:00:00+00:00</th>\n",
       "      <td>41.198578</td>\n",
       "      <td>41.283081</td>\n",
       "      <td>40.996162</td>\n",
       "      <td>41.003563</td>\n",
       "      <td>41.003563</td>\n",
       "      <td>0</td>\n",
       "    </tr>\n",
       "    <tr>\n",
       "      <th>2020-01-01 01:00:00+00:00</th>\n",
       "      <td>40.998795</td>\n",
       "      <td>41.235012</td>\n",
       "      <td>40.967113</td>\n",
       "      <td>41.164078</td>\n",
       "      <td>41.164078</td>\n",
       "      <td>0</td>\n",
       "    </tr>\n",
       "    <tr>\n",
       "      <th>...</th>\n",
       "      <td>...</td>\n",
       "      <td>...</td>\n",
       "      <td>...</td>\n",
       "      <td>...</td>\n",
       "      <td>...</td>\n",
       "      <td>...</td>\n",
       "    </tr>\n",
       "    <tr>\n",
       "      <th>2021-11-05 14:00:00+00:00</th>\n",
       "      <td>196.749481</td>\n",
       "      <td>197.017471</td>\n",
       "      <td>194.295471</td>\n",
       "      <td>194.390533</td>\n",
       "      <td>194.390533</td>\n",
       "      <td>0</td>\n",
       "    </tr>\n",
       "    <tr>\n",
       "      <th>2021-11-05 15:00:00+00:00</th>\n",
       "      <td>194.376190</td>\n",
       "      <td>194.453308</td>\n",
       "      <td>192.219772</td>\n",
       "      <td>193.345963</td>\n",
       "      <td>193.345963</td>\n",
       "      <td>0</td>\n",
       "    </tr>\n",
       "    <tr>\n",
       "      <th>2021-11-05 16:00:00+00:00</th>\n",
       "      <td>193.181168</td>\n",
       "      <td>194.585541</td>\n",
       "      <td>192.988815</td>\n",
       "      <td>194.491928</td>\n",
       "      <td>194.491928</td>\n",
       "      <td>0</td>\n",
       "    </tr>\n",
       "    <tr>\n",
       "      <th>2021-11-05 17:00:00+00:00</th>\n",
       "      <td>194.580383</td>\n",
       "      <td>194.827271</td>\n",
       "      <td>193.854416</td>\n",
       "      <td>194.341034</td>\n",
       "      <td>194.341034</td>\n",
       "      <td>176816</td>\n",
       "    </tr>\n",
       "    <tr>\n",
       "      <th>2021-11-05 18:00:00+00:00</th>\n",
       "      <td>194.413742</td>\n",
       "      <td>194.790970</td>\n",
       "      <td>194.259293</td>\n",
       "      <td>194.745224</td>\n",
       "      <td>194.745224</td>\n",
       "      <td>219504</td>\n",
       "    </tr>\n",
       "  </tbody>\n",
       "</table>\n",
       "<p>16150 rows × 6 columns</p>\n",
       "</div>"
      ],
      "text/plain": [
       "                                 Open        High         Low       Close  \\\n",
       "2019-12-31 21:00:00+00:00   41.187794   41.297840   41.170208   41.200344   \n",
       "2019-12-31 22:00:00+00:00   41.219315   41.335777   41.152782   41.244102   \n",
       "2019-12-31 23:00:00+00:00   41.246174   41.330925   41.150784   41.195194   \n",
       "2020-01-01 00:00:00+00:00   41.198578   41.283081   40.996162   41.003563   \n",
       "2020-01-01 01:00:00+00:00   40.998795   41.235012   40.967113   41.164078   \n",
       "...                               ...         ...         ...         ...   \n",
       "2021-11-05 14:00:00+00:00  196.749481  197.017471  194.295471  194.390533   \n",
       "2021-11-05 15:00:00+00:00  194.376190  194.453308  192.219772  193.345963   \n",
       "2021-11-05 16:00:00+00:00  193.181168  194.585541  192.988815  194.491928   \n",
       "2021-11-05 17:00:00+00:00  194.580383  194.827271  193.854416  194.341034   \n",
       "2021-11-05 18:00:00+00:00  194.413742  194.790970  194.259293  194.745224   \n",
       "\n",
       "                            Adj Close   Volume  \n",
       "2019-12-31 21:00:00+00:00   41.200344        0  \n",
       "2019-12-31 22:00:00+00:00   41.244102   126912  \n",
       "2019-12-31 23:00:00+00:00   41.195194  3634272  \n",
       "2020-01-01 00:00:00+00:00   41.003563        0  \n",
       "2020-01-01 01:00:00+00:00   41.164078        0  \n",
       "...                               ...      ...  \n",
       "2021-11-05 14:00:00+00:00  194.390533        0  \n",
       "2021-11-05 15:00:00+00:00  193.345963        0  \n",
       "2021-11-05 16:00:00+00:00  194.491928        0  \n",
       "2021-11-05 17:00:00+00:00  194.341034   176816  \n",
       "2021-11-05 18:00:00+00:00  194.745224   219504  \n",
       "\n",
       "[16150 rows x 6 columns]"
      ]
     },
     "execution_count": 187,
     "metadata": {},
     "output_type": "execute_result"
    }
   ],
   "source": [
    "from pandas_datareader import data as pdr\n",
    "import yfinance as yf\n",
    "\n",
    "#yf.pdr_override()\n",
    "\n",
    "df = pdr.get_data_yahoo(\"DASH-USD\", start=\"2020-01-01\", end=\"2021-11-09\", interval='1h')\n",
    "df.drop(df.tail(1).index,inplace=True)\n",
    "df"
   ]
  },
  {
   "cell_type": "code",
   "execution_count": 188,
   "metadata": {},
   "outputs": [
    {
     "data": {
      "image/png": "[encoded data removed]",
      "text/plain": [
       "<Figure size 1152x576 with 1 Axes>"
      ]
     },
     "metadata": {
      "needs_background": "light"
     },
     "output_type": "display_data"
    }
   ],
   "source": [
    "data = df.filter(['Close']) # попробуем работать с ценой закрытия дня\n",
    "plt.figure(figsize=(16,8))\n",
    "plt.title('Closing price')\n",
    "plt.ylabel('USD',fontsize=15)\n",
    "plt.grid()\n",
    "plt.plot(data)\n",
    "plt.show()"
   ]
  },
  {
   "cell_type": "code",
   "execution_count": 189,
   "metadata": {},
   "outputs": [],
   "source": [
    "dataset = data.values\n",
    "\n",
    "training_data_len = math.ceil(len(dataset) * .8)"
   ]
  },
  {
   "cell_type": "code",
   "execution_count": 190,
   "metadata": {},
   "outputs": [
    {
     "data": {
      "text/plain": [
       "array([[0.00353378],\n",
       "       [0.00363684],\n",
       "       [0.00352165],\n",
       "       ...,\n",
       "       [0.364559  ],\n",
       "       [0.36420362],\n",
       "       [0.36515555]])"
      ]
     },
     "execution_count": 190,
     "metadata": {},
     "output_type": "execute_result"
    }
   ],
   "source": [
    "# скалируем данные\n",
    "\n",
    "scaler = MinMaxScaler(feature_range=(0,1))\n",
    "scaled_data = scaler.fit_transform(dataset)\n",
    "scaled_data"
   ]
  },
  {
   "cell_type": "code",
   "execution_count": 194,
   "metadata": {},
   "outputs": [
    {
     "name": "stdout",
     "output_type": "stream",
     "text": [
      "[array([0.00353378, 0.00363684, 0.00352165, 0.00307033, 0.00344837,\n",
      "       0.00407013, 0.0039843 , 0.00429453, 0.00407547, 0.00489031,\n",
      "       0.0043154 , 0.00402669, 0.00421765, 0.00467242, 0.00490662,\n",
      "       0.00562884, 0.00577953, 0.0059719 , 0.00595822, 0.00606153,\n",
      "       0.00599796, 0.00546724, 0.00551547, 0.00545925, 0.00638679,\n",
      "       0.005203  , 0.00510101, 0.00437837, 0.00393417, 0.00331676])]\n",
      "[0.0037344705219572866]\n",
      "\n",
      "[array([0.00353378, 0.00363684, 0.00352165, 0.00307033, 0.00344837,\n",
      "       0.00407013, 0.0039843 , 0.00429453, 0.00407547, 0.00489031,\n",
      "       0.0043154 , 0.00402669, 0.00421765, 0.00467242, 0.00490662,\n",
      "       0.00562884, 0.00577953, 0.0059719 , 0.00595822, 0.00606153,\n",
      "       0.00599796, 0.00546724, 0.00551547, 0.00545925, 0.00638679,\n",
      "       0.005203  , 0.00510101, 0.00437837, 0.00393417, 0.00331676]), array([0.00363684, 0.00352165, 0.00307033, 0.00344837, 0.00407013,\n",
      "       0.0039843 , 0.00429453, 0.00407547, 0.00489031, 0.0043154 ,\n",
      "       0.00402669, 0.00421765, 0.00467242, 0.00490662, 0.00562884,\n",
      "       0.00577953, 0.0059719 , 0.00595822, 0.00606153, 0.00599796,\n",
      "       0.00546724, 0.00551547, 0.00545925, 0.00638679, 0.005203  ,\n",
      "       0.00510101, 0.00437837, 0.00393417, 0.00331676, 0.00373447])]\n",
      "[0.0037344705219572866, 0.0037592040187539033]\n",
      "\n"
     ]
    }
   ],
   "source": [
    "train_data = scaled_data[0:training_data_len, : ]\n",
    "\n",
    "# сплитим данные\n",
    "x_train = []\n",
    "y_train = []\n",
    "\n",
    "for i in range(30, len(train_data)):\n",
    "    x_train.append(train_data[i-30:i, 0]) # Берем только последние 60 значений\n",
    "    y_train.append(train_data[i,0])\n",
    "    if i<=31:\n",
    "        print(x_train)\n",
    "        print(y_train)\n",
    "        print()"
   ]
  },
  {
   "cell_type": "code",
   "execution_count": 195,
   "metadata": {},
   "outputs": [],
   "source": [
    "x_train, y_train = np.array(x_train) , np.array(y_train) "
   ]
  },
  {
   "cell_type": "code",
   "execution_count": 196,
   "metadata": {},
   "outputs": [
    {
     "data": {
      "text/plain": [
       "(12890, 30, 1)"
      ]
     },
     "execution_count": 196,
     "metadata": {},
     "output_type": "execute_result"
    }
   ],
   "source": [
    "#reshape\n",
    "x_train = np.reshape(x_train, (x_train.shape[0], x_train.shape[1], 1))\n",
    "x_train.shape"
   ]
  },
  {
   "cell_type": "code",
   "execution_count": 197,
   "metadata": {},
   "outputs": [],
   "source": [
    "# LSTM model \n",
    "model = Sequential()\n",
    "model.add(LSTM(50, return_sequences=True, input_shape=(x_train.shape[1], 1)))\n",
    "model.add(LSTM(50, return_sequences=False))\n",
    "model.add(Dense(25))\n",
    "model.add(Dense(1))"
   ]
  },
  {
   "cell_type": "code",
   "execution_count": 198,
   "metadata": {},
   "outputs": [],
   "source": [
    "model.compile(optimizer='adam', loss='mean_squared_error')"
   ]
  },
  {
   "cell_type": "code",
   "execution_count": 199,
   "metadata": {},
   "outputs": [
    {
     "name": "stdout",
     "output_type": "stream",
     "text": [
      "12890/12890 [==============================] - 206s 16ms/step - loss: 3.7415e-04\n"
     ]
    },
    {
     "data": {
      "text/plain": [
       "<keras.callbacks.History at 0x22e98b5c850>"
      ]
     },
     "execution_count": 199,
     "metadata": {},
     "output_type": "execute_result"
    }
   ],
   "source": [
    "#train\n",
    "model.fit(x_train, y_train, batch_size=1, epochs=1)\n"
   ]
  },
  {
   "cell_type": "code",
   "execution_count": 200,
   "metadata": {},
   "outputs": [],
   "source": [
    "# testing dataset\n",
    "\n",
    "test_data=scaled_data[training_data_len - 30: , : ]\n",
    "x_test=[]\n",
    "y_test=dataset[training_data_len:, :] \n",
    "for i in range(30, len(test_data)):\n",
    "    x_test.append(test_data[i-30:i,0])"
   ]
  },
  {
   "cell_type": "code",
   "execution_count": 201,
   "metadata": {},
   "outputs": [],
   "source": [
    "x_test = np.array(x_test)"
   ]
  },
  {
   "cell_type": "code",
   "execution_count": 202,
   "metadata": {},
   "outputs": [],
   "source": [
    "#reshape for LSTM model\n",
    "x_test = np.reshape(x_test, (x_test.shape[0], x_test.shape[1], 1)) "
   ]
  },
  {
   "cell_type": "code",
   "execution_count": 203,
   "metadata": {},
   "outputs": [],
   "source": [
    "predictions= model.predict(x_test)\n",
    "predictions = scaler.inverse_transform(predictions) #unscaling"
   ]
  },
  {
   "cell_type": "code",
   "execution_count": 204,
   "metadata": {},
   "outputs": [
    {
     "data": {
      "text/plain": [
       "3.1709665515078047"
      ]
     },
     "execution_count": 204,
     "metadata": {},
     "output_type": "execute_result"
    }
   ],
   "source": [
    "# RMSE \n",
    "rmse = np.sqrt(((predictions - y_test) ** 2).mean())\n",
    "rmse"
   ]
  },
  {
   "cell_type": "code",
   "execution_count": 205,
   "metadata": {},
   "outputs": [
    {
     "name": "stderr",
     "output_type": "stream",
     "text": [
      "C:\\Users\\bykov\\AppData\\Local\\Temp/ipykernel_12028/1618339400.py:4: SettingWithCopyWarning: \n",
      "A value is trying to be set on a copy of a slice from a DataFrame.\n",
      "Try using .loc[row_indexer,col_indexer] = value instead\n",
      "\n",
      "See the caveats in the documentation: https://pandas.pydata.org/pandas-docs/stable/user_guide/indexing.html#returning-a-view-versus-a-copy\n",
      "  valid['Predictions'] = predictions\n"
     ]
    },
    {
     "data": {
      "image/png": "[encoded data removed]",
      "text/plain": [
       "<Figure size 1152x576 with 1 Axes>"
      ]
     },
     "metadata": {
      "needs_background": "light"
     },
     "output_type": "display_data"
    }
   ],
   "source": [
    "#plotting\n",
    "train = data[:training_data_len]\n",
    "valid= data[training_data_len:]\n",
    "valid['Predictions'] = predictions\n",
    "\n",
    "plt.figure(figsize=(16,8))\n",
    "plt.title('Model')\n",
    "plt.ylabel(' close prrcie USD', fontsize=16)\n",
    "plt.plot(train['Close'])\n",
    "plt.plot(valid[['Close', 'Predictions']])\n",
    "\n",
    "plt.legend(['Train data', 'Val data', 'Pred data'], loc='lower right')\n",
    "plt.grid()\n",
    "plt.show()\n"
   ]
  },
  {
   "cell_type": "code",
   "execution_count": 206,
   "metadata": {},
   "outputs": [
    {
     "data": {
      "text/html": [
       "<div>\n",
       "<style scoped>\n",
       "    .dataframe tbody tr th:only-of-type {\n",
       "        vertical-align: middle;\n",
       "    }\n",
       "\n",
       "    .dataframe tbody tr th {\n",
       "        vertical-align: top;\n",
       "    }\n",
       "\n",
       "    .dataframe thead th {\n",
       "        text-align: right;\n",
       "    }\n",
       "</style>\n",
       "<table border=\"1\" class=\"dataframe\">\n",
       "  <thead>\n",
       "    <tr style=\"text-align: right;\">\n",
       "      <th></th>\n",
       "      <th>Close</th>\n",
       "      <th>Predictions</th>\n",
       "    </tr>\n",
       "  </thead>\n",
       "  <tbody>\n",
       "    <tr>\n",
       "      <th>2021-06-24 04:00:00+01:00</th>\n",
       "      <td>122.008415</td>\n",
       "      <td>123.289383</td>\n",
       "    </tr>\n",
       "    <tr>\n",
       "      <th>2021-06-24 05:00:00+01:00</th>\n",
       "      <td>123.081406</td>\n",
       "      <td>124.113251</td>\n",
       "    </tr>\n",
       "    <tr>\n",
       "      <th>2021-06-24 06:00:00+01:00</th>\n",
       "      <td>125.303864</td>\n",
       "      <td>125.481422</td>\n",
       "    </tr>\n",
       "    <tr>\n",
       "      <th>2021-06-24 07:00:00+01:00</th>\n",
       "      <td>126.675331</td>\n",
       "      <td>127.485832</td>\n",
       "    </tr>\n",
       "    <tr>\n",
       "      <th>2021-06-24 08:00:00+01:00</th>\n",
       "      <td>125.617729</td>\n",
       "      <td>128.723587</td>\n",
       "    </tr>\n",
       "    <tr>\n",
       "      <th>...</th>\n",
       "      <td>...</td>\n",
       "      <td>...</td>\n",
       "    </tr>\n",
       "    <tr>\n",
       "      <th>2021-11-05 14:00:00+00:00</th>\n",
       "      <td>194.390533</td>\n",
       "      <td>199.298782</td>\n",
       "    </tr>\n",
       "    <tr>\n",
       "      <th>2021-11-05 15:00:00+00:00</th>\n",
       "      <td>193.345963</td>\n",
       "      <td>197.305038</td>\n",
       "    </tr>\n",
       "    <tr>\n",
       "      <th>2021-11-05 16:00:00+00:00</th>\n",
       "      <td>194.491928</td>\n",
       "      <td>195.844193</td>\n",
       "    </tr>\n",
       "    <tr>\n",
       "      <th>2021-11-05 17:00:00+00:00</th>\n",
       "      <td>194.341034</td>\n",
       "      <td>196.858932</td>\n",
       "    </tr>\n",
       "    <tr>\n",
       "      <th>2021-11-05 18:00:00+00:00</th>\n",
       "      <td>194.745224</td>\n",
       "      <td>197.121902</td>\n",
       "    </tr>\n",
       "  </tbody>\n",
       "</table>\n",
       "<p>3230 rows × 2 columns</p>\n",
       "</div>"
      ],
      "text/plain": [
       "                                Close  Predictions\n",
       "2021-06-24 04:00:00+01:00  122.008415   123.289383\n",
       "2021-06-24 05:00:00+01:00  123.081406   124.113251\n",
       "2021-06-24 06:00:00+01:00  125.303864   125.481422\n",
       "2021-06-24 07:00:00+01:00  126.675331   127.485832\n",
       "2021-06-24 08:00:00+01:00  125.617729   128.723587\n",
       "...                               ...          ...\n",
       "2021-11-05 14:00:00+00:00  194.390533   199.298782\n",
       "2021-11-05 15:00:00+00:00  193.345963   197.305038\n",
       "2021-11-05 16:00:00+00:00  194.491928   195.844193\n",
       "2021-11-05 17:00:00+00:00  194.341034   196.858932\n",
       "2021-11-05 18:00:00+00:00  194.745224   197.121902\n",
       "\n",
       "[3230 rows x 2 columns]"
      ]
     },
     "execution_count": 206,
     "metadata": {},
     "output_type": "execute_result"
    }
   ],
   "source": [
    "valid #compare"
   ]
  },
  {
   "cell_type": "code",
   "execution_count": 237,
   "metadata": {},
   "outputs": [
    {
     "name": "stdout",
     "output_type": "stream",
     "text": [
      "[*********************100%***********************]  1 of 1 completed\n",
      "2021-10-31 21:00:00+00:00    192.974640\n",
      "2021-10-31 22:00:00+00:00    191.972702\n",
      "2021-10-31 23:00:00+00:00    192.605515\n",
      "2021-11-01 00:00:00+00:00    193.386734\n",
      "2021-11-01 01:00:00+00:00    191.845062\n",
      "                                ...    \n",
      "2021-11-05 14:00:00+00:00    194.390533\n",
      "2021-11-05 15:00:00+00:00    193.345963\n",
      "2021-11-05 16:00:00+00:00    194.491928\n",
      "2021-11-05 17:00:00+00:00    194.341034\n",
      "2021-11-05 18:00:00+00:00    195.401138\n",
      "Name: Close, Length: 118, dtype: float64\n"
     ]
    }
   ],
   "source": [
    "apple_quote = pdr.get_data_yahoo(\"DASH-USD\", start=\"2021-11-01\", end=\"2021-11-10\", interval='1h')\n",
    "apple_quote.drop(apple_quote.tail(1).index,inplace=True)\n",
    "print(apple_quote['Close'])"
   ]
  },
  {
   "cell_type": "code",
   "execution_count": 236,
   "metadata": {
    "scrolled": true
   },
   "outputs": [
    {
     "name": "stdout",
     "output_type": "stream",
     "text": [
      "[[196.8589]]\n",
      "2021-10-31 21:00:00+00:00    192.974640\n",
      "2021-10-31 22:00:00+00:00    191.972702\n",
      "2021-10-31 23:00:00+00:00    192.605515\n",
      "2021-11-01 00:00:00+00:00    193.386734\n",
      "2021-11-01 01:00:00+00:00    191.845062\n",
      "                                ...    \n",
      "2021-11-05 12:00:00+00:00    195.571381\n",
      "2021-11-05 13:00:00+00:00    196.679260\n",
      "2021-11-05 14:00:00+00:00    194.390533\n",
      "2021-11-05 15:00:00+00:00    193.345963\n",
      "2021-11-05 16:00:00+00:00    194.491928\n",
      "Name: Close, Length: 116, dtype: float64\n"
     ]
    }
   ],
   "source": [
    "#apple_quote = pdr.get_data_yahoo(\"DASH-USD\", start=\"2021-10-03\", end=\"2021-11-03\")\n",
    "new_df = apple_quote.filter(['Close'])\n",
    "\n",
    "last_60_days = new_df[-30:].values\n",
    "\n",
    "last_60_days_scaled= scaler.transform(last_60_days)\n",
    "\n",
    "X_test =  []\n",
    "X_test.append(last_60_days_scaled)\n",
    "\n",
    "X_test=np.array(X_test)\n",
    "\n",
    "X_test= np.reshape(X_test, (X_test.shape[0], X_test.shape[1],1))\n",
    "\n",
    "pred_price=model.predict(X_test)\n",
    "pred_price=scaler.inverse_transform(pred_price)\n",
    "print(pred_price)\n",
    "print(apple_quote['Close'])"
   ]
  },
  {
   "cell_type": "code",
   "execution_count": 148,
   "metadata": {},
   "outputs": [
    {
     "name": "stdout",
     "output_type": "stream",
     "text": [
      "[*********************100%***********************]  1 of 1 completed\n",
      "Date\n",
      "2021-11-02    200.010544\n",
      "2021-11-03    201.431473\n",
      "2021-11-05    194.330978\n",
      "Name: Close, dtype: float64\n"
     ]
    }
   ],
   "source": [
    "apple_quote2 = pdr.get_data_yahoo(\"DASH-USD\", start=\"2021-11-03\", end=\"2021-11-06\")\n",
    "print(apple_quote2['Close'])"
   ]
  },
  {
   "cell_type": "code",
   "execution_count": null,
   "metadata": {},
   "outputs": [],
   "source": []
  }
 ],
 "metadata": {
  "kernelspec": {
   "display_name": "Python 3 (ipykernel)",
   "language": "python",
   "name": "python3"
  },
  "language_info": {
   "codemirror_mode": {
    "name": "ipython",
    "version": 3
   },
   "file_extension": ".py",
   "mimetype": "text/x-python",
   "name": "python",
   "nbconvert_exporter": "python",
   "pygments_lexer": "ipython3",
   "version": "3.9.5"
  }
 },
 "nbformat": 4,
 "nbformat_minor": 4
}
